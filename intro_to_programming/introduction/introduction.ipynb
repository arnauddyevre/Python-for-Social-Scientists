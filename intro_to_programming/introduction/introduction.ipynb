{
 "cells": [
  {
   "cell_type": "markdown",
   "metadata": {},
   "source": [
    "# Introduction to the course\n",
    "\n",
    "*Monday, September 16*\n",
    "\n",
    "[![Open In Colab](https://colab.research.google.com/assets/colab-badge.svg)](https://colab.research.google.com/github/arnauddyevre/Python-for-Social-Scientists/blob/master/intro_to_programming/introduction/introduction.ipynb)\n",
    "\n",
    "### Contents\n",
    "\n",
    "- [1. Logistics](#1.-Logistics)\n",
    "- [2. Technical details](#2.-Technical-details)\n",
    "- [3. Outline of the course](#3.-Outline-of-the-course)\n",
    "- [4. Recommended readings](#4.-Recommended-readings)"
   ]
  },
  {
   "cell_type": "markdown",
   "metadata": {},
   "source": [
    "### 1. Logistics\n",
    "\n",
    "\n",
    "#### 1.1. Organisation of the course\n",
    "\n",
    "Each class will be divided into two parts: a lecture, and a computer exercise. Each part will be approximately 80 minutes long and there will be a 20 minute break in-between. \n",
    "Attending the second part of the course is not compulsory, but we encourage you to do so as the exercises will be directly relevant to research-related applications. Moreover, the class teacher will be able to provide direct feedback.\n",
    "\n",
    "#### 1.2. Computer exercises\n",
    "\n",
    "The exercises require that you use a laptop. You can bring your own PC or Mac. Linux machines can also be used, but they will sometimes require different softwares, and the teacher will not always be able to assist.\n",
    "\n",
    "The PhD Academy has 22 MacBooks that can be borrowed for the duration of the class. They will need to be borrowed at the beginning of each day, and be returned at the end. Importantly, they cannot leave the PhD training room. The Anaconda distribution is already installed on the PhD Academy laptops, and it contains the main piece of software we will be using to write Python code: Jupyter. The laptops are also equipped with GitHub desktop. So you will not need to install anything else for the whole course if you use these machines.\n",
    "\n",
    "<span style=\"color:Red\">*Be careful*</span>, the PhD Academy laptops get their memory wiped when you put them back in their lockers, so you if you want to save your work somewhere, you will need to save it onto a personal drive or SD memory card. You can also save it directly to a dedicated GitHub repository; this would actually be very helpful to get familiar with version control.\n",
    "\n",
    "#### 1.3. Class material\n",
    "\n",
    "All Notebooks, documents, datasets and the syllabus are available on [the course GitHub repository](https://github.com/arnauddyevre/Python-for-Social-Scientists)."
   ]
  },
  {
   "cell_type": "markdown",
   "metadata": {},
   "source": [
    "### 2. Technical details\n",
    "\n",
    "During the course, we will use the following applications and services:\n",
    "* **Jupyter Notebooks**, accessed through the Anaconda distribution\n",
    "* **GitHub Desktop**\n",
    "* **Amazon Web Services**, accessed directly through your web browser\n",
    "* **Google Colab**, used via your browser as well\n",
    "\n",
    "#### 2.1. Jupyter Notebooks\n",
    "\n",
    "**Jupyter Notebooks** are interactive Python scripts that can contain code and text. They support $\\LaTeX$ and Markdown. As such, they are great ressources to learn Python.\n",
    "\n",
    "This document is a Jupyter Notebook: it supports equations $$e^x=\\sum_{k=0}^\\infty \\frac{1}{k!}x^k$$\n",
    "and it can run bits of code such as the snippet below, which simply outputs the graph of the sine function. After having selected the cell with Python code, you can run the code by pressing `Shift + Enter` in Windows and `Cmd + Enter` in Mac."
   ]
  },
  {
   "cell_type": "code",
   "execution_count": 1,
   "metadata": {},
   "outputs": [
    {
     "data": {
      "image/png": "[encoded data removed]",
      "text/plain": [
       "<Figure size 432x288 with 1 Axes>"
      ]
     },
     "metadata": {
      "needs_background": "light"
     },
     "output_type": "display_data"
    }
   ],
   "source": [
    "import numpy as np #package for scientific computing\n",
    "import matplotlib.pyplot as plt #package for graphs\n",
    "import math #package for mathematical functions\n",
    "%matplotlib inline  \n",
    "\n",
    "#exemple of graph \n",
    "x=range(100)\n",
    "y=[math.sin(xi*math.pi/10) for xi in x]\n",
    "plt.plot(x,y)\n",
    "plt.title('exemple de graphique')\n",
    "plt.legend(['sin'])\n",
    "plt.xlabel('x')\n",
    "plt.ylabel('sin(x)')\n",
    "plt.draw()\n",
    "plt.show()"
   ]
  },
  {
   "cell_type": "markdown",
   "metadata": {},
   "source": [
    "The numbers between blue brackets <span style=\"color:Blue\">[ ]</span> allow you to keep track of the order in which you have run the commands. This is helpful when you run many cells, and loose track of variables you have defined earlier.\n",
    "If you are really lost, it is often best to run the whole thing from the start. To do so, selct **Kernel** in the ribbon at the top, and choose **Restart**. All numbers in brackets and all outputs will clear. A **Restart** erases all the objects you have created.\n",
    "\n",
    "**Modifying a Notebook.** You can modify a Notebook yourself. To add a code or a Markdown cell, click the **+** button: this adds a cell below the one you have selected. To delete a cell, simply select one and click on the scissors in the ribbon. You the need to choose whether you are typing code (`Code` in the dropdown menu) or text (`Markdown`). You can double click on a text cell to see how the Markdown formatting work. Simply run the Markdown cell after that, just like a code cell (`Shift` or `Cmd` + `Enter`).\n",
    "\n",
    "We will create a Jupyter Notebook and get familiar with version control in GitHub as a class exercise the first day.\n",
    "\n",
    "It is worth mentioning **Spyder** at this stage. Spyder is a Stata-like environment for data analysis in Python. While we will not use it during the class for empirical exercises, it is a useful resource to be aware of. It also comes with Anaconda. See a screenshot of Spyder's interface below.\n",
    "\n",
    "![Spyder IDE](https://docs.spyder-ide.org/_images/mainwindow_default_1610.png)\n",
    "\n",
    "*Graph from [spyder-ide.org](https://docs.spyder-ide.org)*\n",
    "\n",
    "#### 2.2. GitHub Desktop\n",
    "\n",
    "This is the prime interface for non-command line version control. The whole first exercise in Version Control is dedicated to it. See below a snapshot of its interface.\n",
    "\n",
    "![GitHub Desktop](https://desktop.github.com/images/github-desktop-screenshot-windows.png)\n",
    "\n",
    "*Graph from [desktop.github.com](https://desktop.github.com)*\n",
    "\n",
    "#### 2.3. Amazon Web Service\n",
    "\n",
    "**Amazon Web Service** is Amazon's Cloud computing platform. It allows us to execute computationally intensive and memory-demanding tasks online. Its versatility and generous computing resources make it a tool of choice for big data projects. We will us it during the lecture on Cloud Computing.\n",
    "\n",
    "Notable alternatives to AWS are **Google Cloud Platform** and **Microsoft Azure**.\n",
    "\n",
    "#### 2.4. Google Colab\n",
    "\n",
    "All Notebooks are available online through Google's own version of the Jupyter Notebook: **[Google Colab](https://colab.research.google.com/notebooks/welcome.ipynb)**. The great thing with Colab is that it executes the code online, so there is no need to install any software on our local machines. The computing power offered by Google Colab is also well beyond what we will need for this course. It can be interesting to start data projects directly in Colab.\n",
    "\n",
    "![Google Colab](https://miro.medium.com/max/1540/1*5J8PzeFOT0AHsxxF-v-M-A.gif)\n",
    "\n",
    "*GIF from [towarddatascience.com](https://towardsdatascience.com/getting-started-with-tensorflow-in-google-colaboratory-9a97458e1014)*\n"
   ]
  },
  {
   "cell_type": "markdown",
   "metadata": {},
   "source": [
    "### 3. Outline of the course\n",
    "\n",
    "The course consists of three parts:\n",
    "* Introduction to coding in Python, version control, and cloud computing (3 days)\n",
    "    - (1) Version control\n",
    "    - (2) Cloud computing\n",
    "    - (3) Introduction to Python\n",
    "* Data analysis for the social sciences (4 days)\n",
    "    - (4) Data handling\n",
    "    - (5) Linear models\n",
    "    - (6) MLE and discrete choice models\n",
    "    - (7) Time series\n",
    "* Introduction to machine learning (2 days)\n",
    "    - (8) Machine learning 1\n",
    "    - (9) Machine learning 2"
   ]
  },
  {
   "cell_type": "markdown",
   "metadata": {},
   "source": [
    "### 4. Recommended readings\n",
    "\n",
    "**Best practices**\n",
    "* Gentzkow, M. and J. M. Shapiro (2014). “Code and data for the social sciences: A practitioners guide”. *University of Chicago mimeo* \n",
    "[link](https://web.stanford.edu/~gentzkow/research/CodeAndData.pdf)\n",
    "\n",
    "**Version control**\n",
    "* GitHub Guides (2017). “Understanding the GitHub flow”, accessed August 5, 2019\n",
    "[link](https://guides.github.com/introduction/flow/)\n",
    "\n",
    "**Data analysis in Python**\n",
    "* Sargent,  T. J. and J. Stachurski (2019). “Lectures in quantitative economics with Python”. *mimeo* \n",
    "[link](https://lectures.quantecon.org/_downloads/pdf/py/Quantitative%20Economics%20with%20Python.pdf)\n",
    "* Bell, A. (2016). “Python for Economists”. *mimeo* [link](https://scholar.harvard.edu/files/ambell/files/python_for_economists.pdf)\n",
    "\n",
    "**Introduction to machine learning**\n",
    "* Athey, S., and Imbens, G. W. (2019). “Machine learning methods that economists should know about” *Annual Review of Economics*, 11.\n",
    "[link](https://www.annualreviews.org/doi/abs/10.1146/annurev-economics-080217-053433)\n",
    "* Mullainathan, S., and Spiess, J. (2017). “Machine learning: an applied econometric approach” *Journal of Economic Perspectives*, 31(2), 87-106.\n",
    "[link](https://www.aeaweb.org/articles?id=10.1257/jep.31.2.87)"
   ]
  }
 ],
 "metadata": {
  "kernelspec": {
   "display_name": "Python 3",
   "language": "python",
   "name": "python3"
  },
  "language_info": {
   "codemirror_mode": {
    "name": "ipython",
    "version": 3
   },
   "file_extension": ".py",
   "mimetype": "text/x-python",
   "name": "python",
   "nbconvert_exporter": "python",
   "pygments_lexer": "ipython3",
   "version": "3.7.4"
  }
 },
 "nbformat": 4,
 "nbformat_minor": 2
}

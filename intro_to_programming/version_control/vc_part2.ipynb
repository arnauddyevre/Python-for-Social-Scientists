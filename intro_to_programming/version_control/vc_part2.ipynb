{
 "cells": [
  {
   "cell_type": "markdown",
   "metadata": {},
   "source": [
    "# Class exercise: Using GitHub\n",
    "\n",
    "*Monday 16, September*\n",
    "\n",
    "[![Open In Colab](https://colab.research.google.com/assets/colab-badge.svg)](https://colab.research.google.com/github/arnauddyevre/Python-for-Social-Scientists/blob/master/intro_to_programming/version_control/vc_part2.ipynb)\n",
    "\n",
    "**Requirements:** Access to the Internet"
   ]
  },
  {
   "cell_type": "markdown",
   "metadata": {},
   "source": [
    "In this class exercise, we will create our first repository, create a working branch, commit some changes in it, and merge them back to the master branch.\n",
    "\n",
    "\n",
    "*Git* is a version control tool developed by Linus Torvalds, initially released in 2005.\n",
    "With *Git*, you can:\n",
    "\n",
    "*   labeling, recording and reversing any changes in the files\n",
    "*   managing the project in a collaborative working environment\n",
    "\n",
    "![Git](https://ma.ttias.be/wp-content/uploads/2015/12/git_push_deploy.png)"
   ]
  },
  {
   "cell_type": "markdown",
   "metadata": {},
   "source": [
    "### 1. Online interactive git platforms and clients\n",
    "\n",
    "For this class exercise, we will work from GitHub's website. This will make the exposition clearer, and you will not need to install any software on your machines. We will not be using Git directly from the command line either, as this is beyond the scope of this course, and not very useful for social scientists.\n",
    "\n",
    "When you will be working on actual research projects, you may find it more convenient to use the GitHub desktop app. GitHub Desktop allows you to download a local copy of the repository directly to your machine, work from here, and pull your changes from your computer when you're done. The editing functionalities available in GitHub's website are rather limited and your needs will quickly grow beyond what the website can offer. Moreover, the desktop app offers the same communication and code comparison tools as the website, plus much more. For your future reference, we have added the installation videos below.\n",
    "\n",
    "**Usefulness of version control through the command line** [TBC]"
   ]
  },
  {
   "cell_type": "code",
   "execution_count": null,
   "metadata": {},
   "outputs": [],
   "source": [
    "# Windows\n",
    "from IPython.display import YouTubeVideo\n",
    "YouTubeVideo('qtxWg3kOnd0')"
   ]
  },
  {
   "cell_type": "code",
   "execution_count": null,
   "metadata": {},
   "outputs": [],
   "source": [
    "# Mac OS X\n",
    "from IPython.display import YouTubeVideo\n",
    "YouTubeVideo('ci3W1T88mzw')"
   ]
  },
  {
   "cell_type": "markdown",
   "metadata": {},
   "source": [
    "Unfortunately, Github doesn't provide official client for Linux system, a good substitute will be [Gitkraken](https://www.gitkraken.com/)\n",
    "\n",
    "![Interface of GitKraken](https://www.gitkraken.com/img/misc/gitkraken.gif)\n",
    "\n",
    "###  [Gitlab](https://about.gitlab.com/)\n",
    "\n",
    "![Gitlab](https://miro.medium.com/max/700/1*0pTgaiHFknWZpv4FUnUQPA.png)\n",
    "\n",
    "###  [Bitbucket](https://bitbucket.org/product)\n",
    "![Bitbucket](https://upload.wikimedia.org/wikipedia/commons/3/32/Atlassian_Bitbucket_Logo.png)"
   ]
  },
  {
   "cell_type": "markdown",
   "metadata": {},
   "source": [
    "**1.1. Creating a GitHub student account**\n",
    "\n",
    "_All Following Graphs from_ [Github: our choice for this course](https://github.com/)\n",
    "![Github](https://miro.medium.com/max/700/1*aFHTAkhTkyWD93-UGRttPw.png)\n",
    "\n",
    "Create a github account\n",
    "\n",
    "![create an account](https://discourse-user-assets.s3.dualstack.us-east-1.amazonaws.com/optimized/3X/7/8/784510577177dae83a1e6d63726386a4f2d0fea2_2_690x388.png)\n",
    "\n",
    "Link it with your university email. By doing so, you get additional benefits like \n",
    "* unlimited private repos\n",
    "* access to really cool text editors like Atom\n",
    "* access to Cloud computing ressources such as Amazon's AWS and Microsoft's Azure\n",
    "\n",
    "![Student Developer Pack](https://dzone.com/storage/temp/2204421-github-student-pack.png)"
   ]
  },
  {
   "cell_type": "markdown",
   "metadata": {},
   "source": [
    "**1.2. Basic concepts (review)**\n",
    "\n",
    "### Repository\n",
    "\n",
    "> A repository is like a folder for your project. Your project's repository contains all of your project's files and stores each file's revision history. You can also discuss and manage your project's work within the repository.\n",
    "\n",
    "\n",
    "A typical repository on the Github looks like: https://github.com/amplab/spark-ec2\n",
    "\n",
    "![repo](https://static.packt-cdn.com/products/9781785889271/graphics/image_01_010.jpg)\n",
    "\n",
    "## Using `git` to manage a personal project\n",
    "\n",
    "### create a repository\n",
    "\n",
    "https://help.github.com/en/articles/create-a-repo\n",
    "\n",
    "![create](https://help.github.com/assets/images/help/repository/create-repository-public-private.png)"
   ]
  },
  {
   "cell_type": "markdown",
   "metadata": {},
   "source": [
    "### clone a repository\n",
    "\n",
    "https://help.github.com/en/articles/cloning-a-repository\n",
    "\n",
    "![clone](https://help.github.com/assets/images/help/repository/clone-repo-clone-url-button.png)"
   ]
  },
  {
   "cell_type": "markdown",
   "metadata": {},
   "source": [
    "### Make a branch\n",
    "\n",
    "![branch](https://guides.github.com/activities/hello-world/readme-edits.gif)"
   ]
  },
  {
   "cell_type": "markdown",
   "metadata": {},
   "source": [
    "### commit a change\n",
    "\n",
    "![commit](https://www.hibbittsdesign.org/blog/user/pages/01.posts/2016-04-04-using-github-desktop-and-gitlab-with-Grav/github-desktop-first-commit.png)"
   ]
  },
  {
   "cell_type": "markdown",
   "metadata": {},
   "source": [
    "### revert a change\n",
    "\n",
    "https://help.github.com/en/desktop/contributing-to-projects/reverting-a-commit\n",
    "\n",
    "![revert](https://help.github.com/assets/images/help/desktop/commit-revert-mac.png)"
   ]
  },
  {
   "cell_type": "markdown",
   "metadata": {},
   "source": [
    "### pull a request\n",
    "\n",
    "![push](https://s3-ap-southeast-2.amazonaws.com/lectures.quantecon.org/jl/_static/figures/git-dropdown.png)"
   ]
  },
  {
   "cell_type": "markdown",
   "metadata": {},
   "source": [
    "### remove a repository\n",
    "\n",
    "![delete](https://i.stack.imgur.com/VNswx.png)"
   ]
  },
  {
   "cell_type": "markdown",
   "metadata": {},
   "source": [
    "## Using `git` to manage a collaborative project\n",
    "\n",
    "### As a project contributor\n",
    "\n",
    "#### `fork` other's repository\n",
    "\n",
    "![fork](https://github-images.s3.amazonaws.com/help/bootcamp/Bootcamp-Fork.png)\n",
    "\n",
    "#### pull a request\n",
    "\n",
    "at the homepage of the forked page:\n",
    "\n",
    "![contribute](https://github-images.s3.amazonaws.com/help/pull_requests/recently_pushed_branch.png)\n",
    "\n",
    "#### sync the fork\n",
    "\n",
    "![sync](https://dab1nmslvvntp.cloudfront.net/wp-content/uploads/2016/02/1454964017Screenshot-2016-02-07-12.41.42.png)\n",
    "\n",
    "### As a project leader\n",
    "\n",
    "#### Invite other people\n",
    "\n",
    "![invite](https://help.github.com/assets/images/help/repository/repo-settings-collab-autofill.png)\n",
    "\n",
    "#### merge others' pull requests\n",
    "\n",
    "![merge](https://help.github.com/assets/images/help/pull_requests/select-squash-and-merge-from-drop-down-menu.png)"
   ]
  }
 ],
 "metadata": {
  "kernelspec": {
   "display_name": "Python 3",
   "language": "python",
   "name": "python3"
  },
  "language_info": {
   "codemirror_mode": {
    "name": "ipython",
    "version": 3
   },
   "file_extension": ".py",
   "mimetype": "text/x-python",
   "name": "python",
   "nbconvert_exporter": "python",
   "pygments_lexer": "ipython3",
   "version": "3.7.4"
  }
 },
 "nbformat": 4,
 "nbformat_minor": 4
}
